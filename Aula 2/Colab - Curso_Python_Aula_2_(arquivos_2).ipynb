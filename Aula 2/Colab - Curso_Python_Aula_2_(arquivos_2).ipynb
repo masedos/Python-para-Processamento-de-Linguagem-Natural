{
  "nbformat": 4,
  "nbformat_minor": 0,
  "metadata": {
    "colab": {
      "name": "Curso Python - Aula 2 (arquivos 2).ipynb",
      "provenance": []
    },
    "kernelspec": {
      "name": "python3",
      "display_name": "Python 3"
    }
  },
  "cells": [
    {
      "cell_type": "code",
      "metadata": {
        "id": "FeIaUxxwAatp",
        "colab": {
          "base_uri": "https://localhost:8080/",
          "height": 278
        },
        "outputId": "087d12c9-a582-4bc1-9a71-a58bde009f88"
      },
      "source": [
        "from google.colab import drive\r\n",
        "drive.mount('/content/drive')\r\n",
        "infile = open('/content/drive/My Drive/arquivos_txt/qbdata.txt', 'r')\r\n",
        "conteudo = infile.read()\r\n",
        "conteudo"
      ],
      "execution_count": null,
      "outputs": [
        {
          "output_type": "stream",
          "text": [
            "Drive already mounted at /content/drive; to attempt to forcibly remount, call drive.mount(\"/content/drive\", force_remount=True).\n"
          ],
          "name": "stdout"
        },
        {
          "output_type": "execute_result",
          "data": {
            "application/vnd.google.colaboratory.intrinsic+json": {
              "type": "string"
            },
            "text/plain": [
              "'First Name, Last Name, Position, Team, Completions, Attempts, Yards, TDs Ints, Comp%, Rating\\nColt McCoy QB, CLE  135 222 1576    6   9   60.8%   74.5\\nJosh Freeman QB, TB 291 474 3451    25  6   61.4%   95.9\\nMichael Vick QB, PHI    233 372 3018    21  6   62.6%   100.2\\nMatt Schaub QB, HOU 365 574 4370    24  12  63.6%   92.0\\nPhilip Rivers QB, SD    357 541 4710    30  13  66.0%   101.8\\nMatt Hasselbeck QB, SEA 266 444 3001    12  17  59.9%   73.2\\nJimmy Clausen QB, CAR   157 299 1558    3   9   52.5%   58.4\\nJoe Flacco QB, BAL  306 489 3622    25  10  62.6%   93.6\\nKyle Orton QB, DEN  293 498 3653    20  9   58.8%   87.5\\nJason Campbell QB, OAK  194 329 2387    13  8   59.0%   84.5\\nPeyton Manning QB, IND  450 679 4700    33  17  66.3%   91.9\\nDrew Brees QB, NO   448 658 4620    33  22  68.1%   90.9\\nMatt Ryan QB, ATL   357 571 3705    28  9   62.5%   91.0\\nMatt Cassel QB, KC  262 450 3116    27  7   58.2%   93.0\\nMark Sanchez QB, NYJ    278 507 3291    17  13  54.8%   75.3\\nBrett Favre QB, MIN 217 358 2509    11  19  60.6%   69.9\\nDavid Garrard QB, JAC   236 366 2734    23  15  64.5%   90.8\\nEli Manning QB, NYG 339 539 4002    31  25  62.9%   85.3\\nCarson Palmer QB, CIN   362 586 3970    26  20  61.8%   82.4\\nAlex Smith QB, SF   204 342 2370    14  10  59.6%   82.1\\nChad Henne QB, MIA  301 490 3301    15  19  61.4%   75.4\\nTony Romo QB, DAL   148 213 1605    11  7   69.5%   94.9\\nJay Cutler QB, CHI  261 432 3274    23  16  60.4%   86.3\\nJon Kitna QB, DAL   209 318 2365    16  12  65.7%   88.9\\nTom Brady QB, NE    324 492 3900    36  4   65.9%   111.0\\nBen Roethlisberger QB, PIT  240 389 3200    17  5   61.7%   97.0\\nKerry Collins QB, TEN   160 278 1823    14  8   57.6%   82.2\\nDerek Anderson QB, ARI  169 327 2065    7   10  51.7%   65.9\\nRyan Fitzpatrick QB, BUF    255 441 3000    23  15  57.8%   81.8\\nDonovan McNabb QB, WAS  275 472 3377    14  15  58.3%   77.1\\nKevin Kolb QB, PHI  115 189 1197    7   7   60.8%   76.1\\nAaron Rodgers QB, GB    312 475 3922    28  11  65.7%   101.2\\nSam Bradford QB, STL    354 590 3512    18  15  60.0%   76.5\\nShaun Hill QB, DET  257 416 2686    16  12  61.8%   81.3'"
            ]
          },
          "metadata": {
            "tags": []
          },
          "execution_count": 16
        }
      ]
    },
    {
      "cell_type": "code",
      "metadata": {
        "id": "k_Pz9XSSA1-k",
        "colab": {
          "base_uri": "https://localhost:8080/"
        },
        "outputId": "c67ad301-a34b-46e8-9d7a-c45f50d14ae4"
      },
      "source": [
        "from google.colab import drive\r\n",
        "drive.mount('/content/drive')\r\n",
        "infile = open('/content/drive/My Drive/arquivos_txt/qbdata.txt', 'r')\r\n",
        "conteudo = infile.readlines()\r\n",
        "conteudo"
      ],
      "execution_count": null,
      "outputs": [
        {
          "output_type": "stream",
          "text": [
            "Drive already mounted at /content/drive; to attempt to forcibly remount, call drive.mount(\"/content/drive\", force_remount=True).\n"
          ],
          "name": "stdout"
        },
        {
          "output_type": "execute_result",
          "data": {
            "text/plain": [
              "['First Name, Last Name, Position, Team, Completions, Attempts, Yards, TDs Ints, Comp%, Rating\\n',\n",
              " 'Colt McCoy QB, CLE  135 222 1576    6   9   60.8%   74.5\\n',\n",
              " 'Josh Freeman QB, TB 291 474 3451    25  6   61.4%   95.9\\n',\n",
              " 'Michael Vick QB, PHI    233 372 3018    21  6   62.6%   100.2\\n',\n",
              " 'Matt Schaub QB, HOU 365 574 4370    24  12  63.6%   92.0\\n',\n",
              " 'Philip Rivers QB, SD    357 541 4710    30  13  66.0%   101.8\\n',\n",
              " 'Matt Hasselbeck QB, SEA 266 444 3001    12  17  59.9%   73.2\\n',\n",
              " 'Jimmy Clausen QB, CAR   157 299 1558    3   9   52.5%   58.4\\n',\n",
              " 'Joe Flacco QB, BAL  306 489 3622    25  10  62.6%   93.6\\n',\n",
              " 'Kyle Orton QB, DEN  293 498 3653    20  9   58.8%   87.5\\n',\n",
              " 'Jason Campbell QB, OAK  194 329 2387    13  8   59.0%   84.5\\n',\n",
              " 'Peyton Manning QB, IND  450 679 4700    33  17  66.3%   91.9\\n',\n",
              " 'Drew Brees QB, NO   448 658 4620    33  22  68.1%   90.9\\n',\n",
              " 'Matt Ryan QB, ATL   357 571 3705    28  9   62.5%   91.0\\n',\n",
              " 'Matt Cassel QB, KC  262 450 3116    27  7   58.2%   93.0\\n',\n",
              " 'Mark Sanchez QB, NYJ    278 507 3291    17  13  54.8%   75.3\\n',\n",
              " 'Brett Favre QB, MIN 217 358 2509    11  19  60.6%   69.9\\n',\n",
              " 'David Garrard QB, JAC   236 366 2734    23  15  64.5%   90.8\\n',\n",
              " 'Eli Manning QB, NYG 339 539 4002    31  25  62.9%   85.3\\n',\n",
              " 'Carson Palmer QB, CIN   362 586 3970    26  20  61.8%   82.4\\n',\n",
              " 'Alex Smith QB, SF   204 342 2370    14  10  59.6%   82.1\\n',\n",
              " 'Chad Henne QB, MIA  301 490 3301    15  19  61.4%   75.4\\n',\n",
              " 'Tony Romo QB, DAL   148 213 1605    11  7   69.5%   94.9\\n',\n",
              " 'Jay Cutler QB, CHI  261 432 3274    23  16  60.4%   86.3\\n',\n",
              " 'Jon Kitna QB, DAL   209 318 2365    16  12  65.7%   88.9\\n',\n",
              " 'Tom Brady QB, NE    324 492 3900    36  4   65.9%   111.0\\n',\n",
              " 'Ben Roethlisberger QB, PIT  240 389 3200    17  5   61.7%   97.0\\n',\n",
              " 'Kerry Collins QB, TEN   160 278 1823    14  8   57.6%   82.2\\n',\n",
              " 'Derek Anderson QB, ARI  169 327 2065    7   10  51.7%   65.9\\n',\n",
              " 'Ryan Fitzpatrick QB, BUF    255 441 3000    23  15  57.8%   81.8\\n',\n",
              " 'Donovan McNabb QB, WAS  275 472 3377    14  15  58.3%   77.1\\n',\n",
              " 'Kevin Kolb QB, PHI  115 189 1197    7   7   60.8%   76.1\\n',\n",
              " 'Aaron Rodgers QB, GB    312 475 3922    28  11  65.7%   101.2\\n',\n",
              " 'Sam Bradford QB, STL    354 590 3512    18  15  60.0%   76.5\\n',\n",
              " 'Shaun Hill QB, DET  257 416 2686    16  12  61.8%   81.3']"
            ]
          },
          "metadata": {
            "tags": []
          },
          "execution_count": 17
        }
      ]
    },
    {
      "cell_type": "code",
      "metadata": {
        "id": "FEQ73gCXT5Zb"
      },
      "source": [
        "infile.close()"
      ],
      "execution_count": null,
      "outputs": []
    },
    {
      "cell_type": "code",
      "metadata": {
        "id": "gzLixajMBAvZ",
        "colab": {
          "base_uri": "https://localhost:8080/"
        },
        "outputId": "062bb581-7710-4ad9-f200-3946224f3e6c"
      },
      "source": [
        "from google.colab import drive\r\n",
        "drive.mount('/content/drive')\r\n",
        "outfile = open('/content/drive/My Drive/arquivos_txt/resultado_aula.txt', 'w')\r\n",
        "outfile.write(\"Números de 1 a 10\\n\")\r\n",
        "for i in range(1,11):\r\n",
        "  outfile.write(str(i)+'\\n')\r\n",
        "outfile.close()\r\n",
        "\r\n",
        "result = open('/content/drive/My Drive/arquivos_txt/resultado_aula.txt', 'r')\r\n",
        "conteudo_escrito = result.readlines()\r\n",
        "conteudo_escrito"
      ],
      "execution_count": null,
      "outputs": [
        {
          "output_type": "stream",
          "text": [
            "Drive already mounted at /content/drive; to attempt to forcibly remount, call drive.mount(\"/content/drive\", force_remount=True).\n"
          ],
          "name": "stdout"
        },
        {
          "output_type": "execute_result",
          "data": {
            "text/plain": [
              "['Números de 1 a 10\\n',\n",
              " '1\\n',\n",
              " '2\\n',\n",
              " '3\\n',\n",
              " '4\\n',\n",
              " '5\\n',\n",
              " '6\\n',\n",
              " '7\\n',\n",
              " '8\\n',\n",
              " '9\\n',\n",
              " '10\\n']"
            ]
          },
          "metadata": {
            "tags": []
          },
          "execution_count": 21
        }
      ]
    },
    {
      "cell_type": "code",
      "metadata": {
        "id": "XYr3mHhmDJEW",
        "colab": {
          "base_uri": "https://localhost:8080/"
        },
        "outputId": "0cf74102-d08e-474c-f0e7-7ccbf4fb6aee"
      },
      "source": [
        "from google.colab import drive\r\n",
        "drive.mount('/content/drive')\r\n",
        "outfile = open('/content/drive/My Drive/arquivos_txt/resultado_aula.txt', 'w')\r\n",
        "outfile.write(\"Números de 11 a 20\\n\")\r\n",
        "for i in range(11,21):\r\n",
        "  outfile.write(str(i)+'\\n')\r\n",
        "outfile.close()\r\n",
        "\r\n",
        "result = open('/content/drive/My Drive/arquivos_txt/resultado_aula.txt', 'r')\r\n",
        "conteudo_escrito = result.readlines()\r\n",
        "conteudo_escrito"
      ],
      "execution_count": null,
      "outputs": [
        {
          "output_type": "stream",
          "text": [
            "Drive already mounted at /content/drive; to attempt to forcibly remount, call drive.mount(\"/content/drive\", force_remount=True).\n"
          ],
          "name": "stdout"
        },
        {
          "output_type": "execute_result",
          "data": {
            "text/plain": [
              "['Números de 11 a 20\\n',\n",
              " '11\\n',\n",
              " '12\\n',\n",
              " '13\\n',\n",
              " '14\\n',\n",
              " '15\\n',\n",
              " '16\\n',\n",
              " '17\\n',\n",
              " '18\\n',\n",
              " '19\\n',\n",
              " '20\\n']"
            ]
          },
          "metadata": {
            "tags": []
          },
          "execution_count": 22
        }
      ]
    },
    {
      "cell_type": "code",
      "metadata": {
        "id": "87g1gdglDdsf",
        "colab": {
          "base_uri": "https://localhost:8080/"
        },
        "outputId": "29c01ad4-9d2e-456f-bf02-edbf1d06ebab"
      },
      "source": [
        "from google.colab import drive\r\n",
        "drive.mount('/content/drive')\r\n",
        "outfile = open('/content/drive/My Drive/arquivos_txt/resultado_aula.txt', 'a')\r\n",
        "outfile.write(\"Números de 21 a 30\\n\")\r\n",
        "for i in range(21,31):\r\n",
        "  outfile.write(str(i)+'\\n')\r\n",
        "outfile.close()\r\n",
        "\r\n",
        "result = open('/content/drive/My Drive/arquivos_txt/resultado_aula.txt', 'r')\r\n",
        "conteudo_escrito = result.readlines()\r\n",
        "conteudo_escrito"
      ],
      "execution_count": null,
      "outputs": [
        {
          "output_type": "stream",
          "text": [
            "Drive already mounted at /content/drive; to attempt to forcibly remount, call drive.mount(\"/content/drive\", force_remount=True).\n"
          ],
          "name": "stdout"
        },
        {
          "output_type": "execute_result",
          "data": {
            "text/plain": [
              "['Números de 11 a 20\\n',\n",
              " '11\\n',\n",
              " '12\\n',\n",
              " '13\\n',\n",
              " '14\\n',\n",
              " '15\\n',\n",
              " '16\\n',\n",
              " '17\\n',\n",
              " '18\\n',\n",
              " '19\\n',\n",
              " '20\\n',\n",
              " 'Números de 21 a 30\\n',\n",
              " '21\\n',\n",
              " '22\\n',\n",
              " '23\\n',\n",
              " '24\\n',\n",
              " '25\\n',\n",
              " '26\\n',\n",
              " '27\\n',\n",
              " '28\\n',\n",
              " '29\\n',\n",
              " '30\\n']"
            ]
          },
          "metadata": {
            "tags": []
          },
          "execution_count": 23
        }
      ]
    }
  ]
}