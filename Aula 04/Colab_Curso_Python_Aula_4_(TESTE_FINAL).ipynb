{
  "nbformat": 4,
  "nbformat_minor": 0,
  "metadata": {
    "colab": {
      "name": "Colab - Curso_Python_Aula_4_(TESTE FINAL).ipynb",
      "provenance": [],
      "collapsed_sections": []
    },
    "kernelspec": {
      "name": "python3",
      "display_name": "Python 3"
    }
  },
  "cells": [
    {
      "cell_type": "markdown",
      "metadata": {
        "id": "qp7Z6pStIU_F"
      },
      "source": [
        "## Curso de Extensão - Python para PLN - USP - Teste Final"
      ]
    },
    {
      "cell_type": "markdown",
      "metadata": {
        "id": "d7kd7KAMJpvJ"
      },
      "source": [
        "Curso Python para PLN - Avaliação\n",
        "\n",
        "Olá pessoal! Para que vocês possam receber o certificado de participação e aprovação no Curso Python para PLN, vocês devem responder essas 10 questões sobre todo o conteúdo do nosso curso.\n",
        "\n",
        "Você precisa acertar pelo menos 5 questões para ser aprovado!\n",
        "\n",
        "O formulário ficará aberto até sexta-feira, dia 26 de março de 2021 às 23h59 para você responder! Bom divertimento! =)"
      ]
    },
    {
      "cell_type": "markdown",
      "metadata": {
        "id": "C01QUBHJKTpQ"
      },
      "source": [
        "#### **Avaliação**"
      ]
    },
    {
      "cell_type": "markdown",
      "metadata": {
        "id": "SC5qf0LDJzhI"
      },
      "source": [
        " 01. **Um exemplo prático de aplicação em PLN é um sistema de tradução automática.**"
      ]
    },
    {
      "cell_type": "markdown",
      "metadata": {
        "id": "VsQn3RfBJ78G"
      },
      "source": [
        " - [X] Verdadeiro\n",
        "\n",
        "- [ ] Falso"
      ]
    },
    {
      "cell_type": "markdown",
      "metadata": {
        "id": "HcYVDnv5KZLe"
      },
      "source": [
        "02. **Marque a opção que represente o resultado final da execução desse código:** "
      ]
    },
    {
      "cell_type": "markdown",
      "metadata": {
        "id": "0f4KWtgiKes5"
      },
      "source": [
        "v = \"1\"\n",
        "\n",
        "q = 1\n",
        "\n",
        "v + q"
      ]
    },
    {
      "cell_type": "markdown",
      "metadata": {
        "id": "m29aAlrUK5Wr"
      },
      "source": [
        "- [ ] \"1\"1\n",
        "- [ ] \"11\"\n",
        "- [x] O sistema retorna um erro\n",
        "- [ ] 11"
      ]
    },
    {
      "cell_type": "code",
      "metadata": {
        "colab": {
          "base_uri": "https://localhost:8080/",
          "height": 197
        },
        "id": "84bDPcJoLJdx",
        "outputId": "0c5f23b2-d9c7-4b2a-9566-3ab6424adf24"
      },
      "source": [
        "v = \"1\"\n",
        "q = 1\n",
        "v + q"
      ],
      "execution_count": null,
      "outputs": [
        {
          "output_type": "error",
          "ename": "TypeError",
          "evalue": "ignored",
          "traceback": [
            "\u001b[0;31m---------------------------------------------------------------------------\u001b[0m",
            "\u001b[0;31mTypeError\u001b[0m                                 Traceback (most recent call last)",
            "\u001b[0;32m<ipython-input-1-8c16cd1d3110>\u001b[0m in \u001b[0;36m<module>\u001b[0;34m()\u001b[0m\n\u001b[1;32m      1\u001b[0m \u001b[0mv\u001b[0m \u001b[0;34m=\u001b[0m \u001b[0;34m\"1\"\u001b[0m\u001b[0;34m\u001b[0m\u001b[0;34m\u001b[0m\u001b[0m\n\u001b[1;32m      2\u001b[0m \u001b[0mq\u001b[0m \u001b[0;34m=\u001b[0m \u001b[0;36m1\u001b[0m\u001b[0;34m\u001b[0m\u001b[0;34m\u001b[0m\u001b[0m\n\u001b[0;32m----> 3\u001b[0;31m \u001b[0mv\u001b[0m \u001b[0;34m+\u001b[0m \u001b[0mq\u001b[0m\u001b[0;34m\u001b[0m\u001b[0;34m\u001b[0m\u001b[0m\n\u001b[0m",
            "\u001b[0;31mTypeError\u001b[0m: can only concatenate str (not \"int\") to str"
          ]
        }
      ]
    },
    {
      "cell_type": "markdown",
      "metadata": {
        "id": "3432PS3cLXjO"
      },
      "source": [
        "03. **Qual das opções representa uma tupla em Python?**"
      ]
    },
    {
      "cell_type": "markdown",
      "metadata": {
        "id": "dk2hyI7sLfrH"
      },
      "source": [
        "- [ ] [0, 1, 2, 3, 4]\n",
        "- [x] (0, 1, 2, 3, 4)\n",
        "- [ ] \"0, 1, 2, 3, 4\"\n",
        "- [ ] {0, 1, 2, 3, 4}"
      ]
    },
    {
      "cell_type": "code",
      "metadata": {
        "colab": {
          "base_uri": "https://localhost:8080/"
        },
        "id": "53y2OGtWLvdR",
        "outputId": "4bdc3476-4960-4efe-de3f-441945a5dca5"
      },
      "source": [
        "print(type([0, 1, 2, 3, 4]))\n",
        "print(type((0, 1, 2, 3, 4)))\n",
        "print(type(\"0, 1, 2, 3, 4\"))\n",
        "print(type({0, 1, 2, 3, 4}))"
      ],
      "execution_count": null,
      "outputs": [
        {
          "output_type": "stream",
          "text": [
            "<class 'list'>\n",
            "<class 'tuple'>\n",
            "<class 'str'>\n",
            "<class 'set'>\n"
          ],
          "name": "stdout"
        }
      ]
    },
    {
      "cell_type": "markdown",
      "metadata": {
        "id": "tmSiHsFNMGTV"
      },
      "source": [
        "04. **Dadas as linhas de código abaixo, qual opção representa o resultado da execução do código?** "
      ]
    },
    {
      "cell_type": "markdown",
      "metadata": {
        "id": "_UkDe_qEM4oU"
      },
      "source": [
        "estrutura = [10, 20, 30, 40, 50]\n",
        "\n",
        "print(estrutura[:3])"
      ]
    },
    {
      "cell_type": "markdown",
      "metadata": {
        "id": "ASlnc74RNI6H"
      },
      "source": [
        "- [ ] [10, 20, 30, 40]\n",
        "- [ ] [30]\n",
        "- [ ] [30, 40, 50]\n",
        "- [x] [10, 20, 30]"
      ]
    },
    {
      "cell_type": "code",
      "metadata": {
        "colab": {
          "base_uri": "https://localhost:8080/"
        },
        "id": "-pT2Cxm9NVuc",
        "outputId": "872cbb7d-0a79-48c2-d2cb-05e57dbbc2b5"
      },
      "source": [
        "estrutura = [10, 20, 30, 40, 50]\n",
        "print(estrutura[:3])"
      ],
      "execution_count": null,
      "outputs": [
        {
          "output_type": "stream",
          "text": [
            "[10, 20, 30]\n"
          ],
          "name": "stdout"
        }
      ]
    },
    {
      "cell_type": "markdown",
      "metadata": {
        "id": "-QuD0ktINkua"
      },
      "source": [
        "05. **A linha de código abaixo tem como objetivo:**"
      ]
    },
    {
      "cell_type": "markdown",
      "metadata": {
        "id": "KjMNOVtXOKHm"
      },
      "source": [
        "s = 'instituto de ciências matemáticas e de computação'\n",
        "\n",
        "len(s.split())"
      ]
    },
    {
      "cell_type": "markdown",
      "metadata": {
        "id": "arcqDA5xNrKD"
      },
      "source": [
        "- [ ] Saber a quantidade de palavras da string s. O resultado é 49.\n",
        "- [x] Saber a quantidade de palavras da string s. O resultado é 7.\n",
        "- [ ] Saber o tamanho da string s em caracteres e espaços. O resultado é 49.\n",
        "- [ ] Saber o tamanho da string s em caracteres e espaços. O resultado é 7."
      ]
    },
    {
      "cell_type": "code",
      "metadata": {
        "colab": {
          "base_uri": "https://localhost:8080/"
        },
        "id": "56jHGyo2OHP6",
        "outputId": "4997f2c7-5cf5-4a57-c7da-653f427d9263"
      },
      "source": [
        "s = 'instituto de ciências matemáticas e de computação'\n",
        "len(s.split())"
      ],
      "execution_count": null,
      "outputs": [
        {
          "output_type": "execute_result",
          "data": {
            "text/plain": [
              "7"
            ]
          },
          "metadata": {
            "tags": []
          },
          "execution_count": 6
        }
      ]
    },
    {
      "cell_type": "code",
      "metadata": {
        "colab": {
          "base_uri": "https://localhost:8080/"
        },
        "id": "HCbVeiZ-O428",
        "outputId": "9328354d-1c6e-4619-80cd-ffb2139bf8db"
      },
      "source": [
        "s.split()"
      ],
      "execution_count": null,
      "outputs": [
        {
          "output_type": "execute_result",
          "data": {
            "text/plain": [
              "['instituto', 'de', 'ciências', 'matemáticas', 'e', 'de', 'computação']"
            ]
          },
          "metadata": {
            "tags": []
          },
          "execution_count": 7
        }
      ]
    },
    {
      "cell_type": "markdown",
      "metadata": {
        "id": "NZnGNtJDPBTE"
      },
      "source": [
        "06. **O trecho de código abaixo retorna uma lista de tokens, que são:** \n"
      ]
    },
    {
      "cell_type": "markdown",
      "metadata": {
        "id": "UU-N7_DDPR7v"
      },
      "source": [
        "texto = \"O jogador, que está com a camisa 10, marcou o gol da vitória!\"\n",
        "\n",
        "from nltk.tokenize import RegexpTokenizer\n",
        "\n",
        "tokenizer = RegexpTokenizer(r'[A-z]\\w*')\n",
        "\n",
        "tokens = tokenizer.tokenize(texto)\n",
        "\n",
        "tokens"
      ]
    },
    {
      "cell_type": "markdown",
      "metadata": {
        "id": "NBtCQ-HNPGWo"
      },
      "source": [
        "- [ ] Números\n",
        "- [x] Palavras\n",
        "- [ ] Pontuações\n",
        "- [ ] Todos os tipos de tokens"
      ]
    },
    {
      "cell_type": "code",
      "metadata": {
        "colab": {
          "base_uri": "https://localhost:8080/"
        },
        "id": "kPZ18A6mP8XP",
        "outputId": "199fcc68-6bc5-4c11-d151-b837a769636f"
      },
      "source": [
        "texto = \"O jogador, que está com a camisa 10, marcou o gol da vitória!\"\n",
        "from nltk.tokenize import RegexpTokenizer\n",
        "tokenizer = RegexpTokenizer(r'[A-z]\\w*')\n",
        "tokens = tokenizer.tokenize(texto)\n",
        "tokens"
      ],
      "execution_count": null,
      "outputs": [
        {
          "output_type": "execute_result",
          "data": {
            "text/plain": [
              "['O',\n",
              " 'jogador',\n",
              " 'que',\n",
              " 'está',\n",
              " 'com',\n",
              " 'a',\n",
              " 'camisa',\n",
              " 'marcou',\n",
              " 'o',\n",
              " 'gol',\n",
              " 'da',\n",
              " 'vitória']"
            ]
          },
          "metadata": {
            "tags": []
          },
          "execution_count": 8
        }
      ]
    },
    {
      "cell_type": "markdown",
      "metadata": {
        "id": "99q6tJHEQgR7"
      },
      "source": [
        "07. **No NLTK, a contagem/frequência de tokens é feita pela classe FreqDist.** "
      ]
    },
    {
      "cell_type": "markdown",
      "metadata": {
        "id": "SSIZNbe6Qo99"
      },
      "source": [
        "- [x] Verdadeiro\n",
        "- [ ] Falso"
      ]
    },
    {
      "cell_type": "markdown",
      "metadata": {
        "id": "77uv7iaoQ12-"
      },
      "source": [
        "08. **Usando o spaCy, caso se queira retornar todas as pontuações do texto/dataset, qual das linhas de código abaixo seria utilizada?**"
      ]
    },
    {
      "cell_type": "markdown",
      "metadata": {
        "id": "SKST277OQ6KR"
      },
      "source": [
        "- [ ] tokens_pontuacoes = [token.orth_ for token in doc if token.is_alpha]\n",
        "- [ ] tokens_pontuacoes = [token.orth_ for token in doc if token.is_digit]\n",
        "- [x] tokens_pontuacoes = [token.orth_ for token in doc if token.is_punct]\n",
        "- [ ] tokens_pontuacoes = [token.orth_ for token in doc]"
      ]
    },
    {
      "cell_type": "markdown",
      "metadata": {
        "id": "PTw-Q8C8RK_p"
      },
      "source": [
        "09. **No spaCy, para retornar todas as classes gramaticais de um certo texto ou dataset, deve-se usar o atributo .pos_ do token.** "
      ]
    },
    {
      "cell_type": "markdown",
      "metadata": {
        "id": "2VvX88odRPly"
      },
      "source": [
        "- [ ] Verdadeiro\n",
        "- [x] Falso"
      ]
    },
    {
      "cell_type": "markdown",
      "metadata": {
        "id": "wIh71OVBRWOR"
      },
      "source": [
        "10. **A análise que podemos fazer do resultado desse trecho de código, referente à similaridade entre palavras, é que:** "
      ]
    },
    {
      "cell_type": "markdown",
      "metadata": {
        "id": "ODQ1B7UzRujo"
      },
      "source": [
        "import spacy\n",
        "\n",
        "nlp = spacy.load(\"pt_core_news_lg\")\n",
        "\n",
        "palavras = \"conversar falar correr\"\n",
        "\n",
        "doc = nlp(palavras)\n",
        "\n",
        "tokens = [token for token in doc]\n",
        "\n",
        "tokens[0].similarity(tokens[1])\n",
        "\n",
        "0.73501545\n",
        "\n",
        "tokens[0].similarity(tokens[2])\n",
        "\n",
        "0.44497716\n",
        "\n",
        "tokens[1].similarity(tokens[2])\n",
        "\n",
        "0.4326754"
      ]
    },
    {
      "cell_type": "markdown",
      "metadata": {
        "id": "osyI2ceYRakk"
      },
      "source": [
        "- [ ] O sentido das palavras \"conversar\" e \"correr\" são bem próximas\n",
        "- [x] O sentido das palavras \"falar\" e \"correr\" são bem distantes\n",
        "- [ ] Quando mais o valor está próximo de 1, menos similares as palavras são, por isso, \"conversar\" e \"falar\" tem sentidos bem distantes\n",
        "- [ ] Todas as afirmações estão erradas"
      ]
    },
    {
      "cell_type": "code",
      "metadata": {
        "id": "qBxTvfn9Tb0N"
      },
      "source": [
        "import spacy\n",
        "!pip install --upgrade spacy\n",
        "!python -m spacy download pt_core_news_lg"
      ],
      "execution_count": null,
      "outputs": []
    },
    {
      "cell_type": "code",
      "metadata": {
        "colab": {
          "base_uri": "https://localhost:8080/"
        },
        "id": "T7i12SFtTHgN",
        "outputId": "41235347-1ea7-43a6-9a74-a6e64888c11f"
      },
      "source": [
        "import spacy\n",
        "nlp = spacy.load(\"pt_core_news_lg\")\n",
        "palavras = \"conversar falar correr\"\n",
        "doc = nlp(palavras)\n",
        "tokens = [token for token in doc]\n",
        "\n",
        "print(f\"Similaridade entre - {tokens[0]} - e {tokens[1]} é de {tokens[0].similarity(tokens[1])}\")\n",
        "\n",
        "print(f\"Similaridade entre - {tokens[0]} - e {tokens[2]} é de {tokens[0].similarity(tokens[2])}\")\n",
        "\n",
        "print(f\"Similaridade entre - {tokens[1]} - e {tokens[2]} é de {tokens[1].similarity(tokens[2])}\")"
      ],
      "execution_count": null,
      "outputs": [
        {
          "output_type": "stream",
          "text": [
            "Similaridade entre - conversar - e falar é de 0.7350154519081116\n",
            "Similaridade entre - conversar - e correr é de 0.44497716426849365\n",
            "Similaridade entre - falar - e correr é de 0.43267539143562317\n"
          ],
          "name": "stdout"
        }
      ]
    }
  ]
}