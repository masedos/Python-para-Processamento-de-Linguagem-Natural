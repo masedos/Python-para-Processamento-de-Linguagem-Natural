{
  "nbformat": 4,
  "nbformat_minor": 0,
  "metadata": {
    "colab": {
      "name": "Colab - Curso_Python_Exercício_Fixação_1.ipynb",
      "provenance": [],
      "collapsed_sections": []
    },
    "kernelspec": {
      "name": "python3",
      "display_name": "Python 3"
    }
  },
  "cells": [
    {
      "cell_type": "markdown",
      "metadata": {
        "id": "h1-ns-owZq2G"
      },
      "source": [
        "## Curso de Extensão - Python para PLN - USP"
      ]
    },
    {
      "cell_type": "code",
      "metadata": {
        "colab": {
          "base_uri": "https://localhost:8080/"
        },
        "id": "PlwldObtOX1G",
        "outputId": "70b25c53-8138-4404-d376-7a501c235800"
      },
      "source": [
        "with open('qbdata.txt', 'r') as f:\r\n",
        "  conteudo = f.readlines()\r\n",
        "conteudo"
      ],
      "execution_count": 15,
      "outputs": [
        {
          "output_type": "execute_result",
          "data": {
            "text/plain": [
              "['First Name, Last Name, Position, Team, Completions, Attempts, Yards, TDs Ints, Comp%, Rating\\n',\n",
              " 'Colt McCoy QB, CLE  135 222 1576    6   9   60.8%   74.5\\n',\n",
              " 'Josh Freeman QB, TB 291 474 3451    25  6   61.4%   95.9\\n',\n",
              " 'Michael Vick QB, PHI    233 372 3018    21  6   62.6%   100.2\\n',\n",
              " 'Matt Schaub QB, HOU 365 574 4370    24  12  63.6%   92.0\\n',\n",
              " 'Philip Rivers QB, SD    357 541 4710    30  13  66.0%   101.8\\n',\n",
              " 'Matt Hasselbeck QB, SEA 266 444 3001    12  17  59.9%   73.2\\n',\n",
              " 'Jimmy Clausen QB, CAR   157 299 1558    3   9   52.5%   58.4\\n',\n",
              " 'Joe Flacco QB, BAL  306 489 3622    25  10  62.6%   93.6\\n',\n",
              " 'Kyle Orton QB, DEN  293 498 3653    20  9   58.8%   87.5\\n',\n",
              " 'Jason Campbell QB, OAK  194 329 2387    13  8   59.0%   84.5\\n',\n",
              " 'Peyton Manning QB, IND  450 679 4700    33  17  66.3%   91.9\\n',\n",
              " 'Drew Brees QB, NO   448 658 4620    33  22  68.1%   90.9\\n',\n",
              " 'Matt Ryan QB, ATL   357 571 3705    28  9   62.5%   91.0\\n',\n",
              " 'Matt Cassel QB, KC  262 450 3116    27  7   58.2%   93.0\\n',\n",
              " 'Mark Sanchez QB, NYJ    278 507 3291    17  13  54.8%   75.3\\n',\n",
              " 'Brett Favre QB, MIN 217 358 2509    11  19  60.6%   69.9\\n',\n",
              " 'David Garrard QB, JAC   236 366 2734    23  15  64.5%   90.8\\n',\n",
              " 'Eli Manning QB, NYG 339 539 4002    31  25  62.9%   85.3\\n',\n",
              " 'Carson Palmer QB, CIN   362 586 3970    26  20  61.8%   82.4\\n',\n",
              " 'Alex Smith QB, SF   204 342 2370    14  10  59.6%   82.1\\n',\n",
              " 'Chad Henne QB, MIA  301 490 3301    15  19  61.4%   75.4\\n',\n",
              " 'Tony Romo QB, DAL   148 213 1605    11  7   69.5%   94.9\\n',\n",
              " 'Jay Cutler QB, CHI  261 432 3274    23  16  60.4%   86.3\\n',\n",
              " 'Jon Kitna QB, DAL   209 318 2365    16  12  65.7%   88.9\\n',\n",
              " 'Tom Brady QB, NE    324 492 3900    36  4   65.9%   111.0\\n',\n",
              " 'Ben Roethlisberger QB, PIT  240 389 3200    17  5   61.7%   97.0\\n',\n",
              " 'Kerry Collins QB, TEN   160 278 1823    14  8   57.6%   82.2\\n',\n",
              " 'Derek Anderson QB, ARI  169 327 2065    7   10  51.7%   65.9\\n',\n",
              " 'Ryan Fitzpatrick QB, BUF    255 441 3000    23  15  57.8%   81.8\\n',\n",
              " 'Donovan McNabb QB, WAS  275 472 3377    14  15  58.3%   77.1\\n',\n",
              " 'Kevin Kolb QB, PHI  115 189 1197    7   7   60.8%   76.1\\n',\n",
              " 'Aaron Rodgers QB, GB    312 475 3922    28  11  65.7%   101.2\\n',\n",
              " 'Sam Bradford QB, STL    354 590 3512    18  15  60.0%   76.5\\n',\n",
              " 'Shaun Hill QB, DET  257 416 2686    16  12  61.8%   81.3']"
            ]
          },
          "metadata": {
            "tags": []
          },
          "execution_count": 15
        }
      ]
    },
    {
      "cell_type": "code",
      "metadata": {
        "colab": {
          "base_uri": "https://localhost:8080/"
        },
        "id": "cx28N3aBOFXg",
        "outputId": "8a9d6a0c-7ea1-4573-bc32-63b2afb9b35a"
      },
      "source": [
        "for linha in conteudo[1:]:\r\n",
        "\r\n",
        "\tn_qb_lista = linha.split()[0:2]\r\n",
        "\r\n",
        "\tn_qb = \" \".join(n_qb_lista)\r\n",
        "\r\n",
        "\tratings = linha.split()[-1]\r\n",
        "\r\n",
        "\tinfo = n_qb + \": \" + ratings\r\n",
        "\t\r\n",
        "\tprint(info)"
      ],
      "execution_count": 19,
      "outputs": [
        {
          "output_type": "stream",
          "text": [
            "Colt McCoy: 74.5\n",
            "Josh Freeman: 95.9\n",
            "Michael Vick: 100.2\n",
            "Matt Schaub: 92.0\n",
            "Philip Rivers: 101.8\n",
            "Matt Hasselbeck: 73.2\n",
            "Jimmy Clausen: 58.4\n",
            "Joe Flacco: 93.6\n",
            "Kyle Orton: 87.5\n",
            "Jason Campbell: 84.5\n",
            "Peyton Manning: 91.9\n",
            "Drew Brees: 90.9\n",
            "Matt Ryan: 91.0\n",
            "Matt Cassel: 93.0\n",
            "Mark Sanchez: 75.3\n",
            "Brett Favre: 69.9\n",
            "David Garrard: 90.8\n",
            "Eli Manning: 85.3\n",
            "Carson Palmer: 82.4\n",
            "Alex Smith: 82.1\n",
            "Chad Henne: 75.4\n",
            "Tony Romo: 94.9\n",
            "Jay Cutler: 86.3\n",
            "Jon Kitna: 88.9\n",
            "Tom Brady: 111.0\n",
            "Ben Roethlisberger: 97.0\n",
            "Kerry Collins: 82.2\n",
            "Derek Anderson: 65.9\n",
            "Ryan Fitzpatrick: 81.8\n",
            "Donovan McNabb: 77.1\n",
            "Kevin Kolb: 76.1\n",
            "Aaron Rodgers: 101.2\n",
            "Sam Bradford: 76.5\n",
            "Shaun Hill: 81.3\n"
          ],
          "name": "stdout"
        }
      ]
    }
  ]
}