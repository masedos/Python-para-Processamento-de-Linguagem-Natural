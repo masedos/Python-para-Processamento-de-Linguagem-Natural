{
  "nbformat": 4,
  "nbformat_minor": 0,
  "metadata": {
    "colab": {
      "name": "Colab - Curso_Python_Exercício_Fixação_2.ipynb",
      "provenance": [],
      "collapsed_sections": []
    },
    "kernelspec": {
      "name": "python3",
      "display_name": "Python 3"
    }
  },
  "cells": [
    {
      "cell_type": "markdown",
      "metadata": {
        "id": "h1-ns-owZq2G"
      },
      "source": [
        "## Curso de Extensão - Python para PLN - USP"
      ]
    },
    {
      "cell_type": "code",
      "metadata": {
        "colab": {
          "base_uri": "https://localhost:8080/"
        },
        "id": "epc-5-AXhSH0",
        "outputId": "eeb3bdc9-5cc3-4c5c-b76b-54653cee034b"
      },
      "source": [
        "# CENÁRIO 1: apenas um telefone por contato\n",
        "\n",
        "# criação do dicionário\n",
        "dict_agenda = {}\n",
        "\n",
        "# povoando o dicionário com o primeiro registro. Decidi colocar o CPF como chave do registro.\n",
        "# decidi colocar uma lista porque é mais fácil de manipular quando formos imprimir, além de termos mais de uma informação para uma chave.\n",
        "dict_agenda['000.000.000-00'] = []\n",
        "dict_agenda['000.000.000-00'].append('Roney Lira')\n",
        "dict_agenda['000.000.000-00'].append(86999999999)\n",
        "dict_agenda['000.000.000-00'].append('@roneysco')\n",
        "\n",
        "# segundo registro\n",
        "dict_agenda['111.111.111-11'] = []\n",
        "dict_agenda['111.111.111-11'].append('Roney Santos')\n",
        "dict_agenda['111.111.111-11'].append(119999999999)\n",
        "dict_agenda['111.111.111-11'].append('@roney2')\n",
        "\n",
        "# terceiro registro...\n",
        "dict_agenda['222.222.222-22'] = []\n",
        "dict_agenda['222.222.222-22'].append('Alguem Alguem')\n",
        "dict_agenda['222.222.222-22'].append(359999999999)\n",
        "dict_agenda['222.222.222-22'].append('@alguem')\n",
        "\n",
        "# agora vamos iterar sobre os items do dicionário, para imprimir as informações solicitadas.\n",
        "for chave, valor in dict_agenda.items():\n",
        "  # o cpf do registro é a chave, então basta criar uma variável que vai receber a chave de cada item do dicionário.\n",
        "  cpf = chave\n",
        "\n",
        "  # temos uma lista como o valor, então, cada elemento de lista é um dos dados solicitados da agenda.\n",
        "  # a 1ª posição da lista é o nome; a 2ª posição da lista é o telefone e a 3ª posição da lista é o user no twitter. Então usaremos os princípios de lista! \n",
        "  nome = valor[0]\n",
        "  telefone = valor[1]\n",
        "  user = valor[2]\n",
        "\n",
        "  # agora basta fazer a manipulação de strings para mostrar a informação solicitada, olha só:\n",
        "  # VALE LEMBRAR: strings só são concatenadas com strings, ok? Então não podemos esquecer de fazer o CAST na variável 'telefone', que é um inteiro.\n",
        "  info = cpf + \": \" + nome + \", \" + str(telefone) + \" (\" + user + \")\"\n",
        "  print(info)\n"
      ],
      "execution_count": 1,
      "outputs": [
        {
          "output_type": "stream",
          "text": [
            "000.000.000-00: Roney Lira, 86999999999 (@roneysco)\n",
            "111.111.111-11: Roney Santos, 119999999999 (@roney2)\n",
            "222.222.222-22: Alguem Alguem, 359999999999 (@alguem)\n"
          ],
          "name": "stdout"
        }
      ]
    },
    {
      "cell_type": "code",
      "metadata": {
        "colab": {
          "base_uri": "https://localhost:8080/"
        },
        "id": "KdcX9gFNIkij",
        "outputId": "63cc0551-7e94-4b0a-e440-222163b55765"
      },
      "source": [
        "# CENÁRIO 2: mais de um telefone por contato\n",
        "\n",
        "# criação do dicionário\n",
        "dict_agenda = {}\n",
        "\n",
        "# assim como no cenário anterior, decidi colocar o CPF como chave. Manterei também a lista como o organizador dos valores\n",
        "\n",
        "dict_agenda['000.000.000-00'] = []\n",
        "dict_agenda['000.000.000-00'].append('Roney Lira')\n",
        "\n",
        "# para adicionar os telefones, criarei uma lista, que vai conter um ou mais telefones do registro. Colocarei 3:\n",
        "lista_telefones = [86999999999, 16999999999, 85999999999] \n",
        "\n",
        "# e basta usar o append() sendo a lista de telefones como parâmetro para ela ser inserida na lista de valores do registro!\n",
        "# isso faz com que a lista de telefones seja inserida ao final da lista de valores, mantendo o nosso padrão para a visualização das informações mais a seguir!\n",
        "dict_agenda['000.000.000-00'].append(lista_telefones)\n",
        "\n",
        "# o user no Twitter pode voltar a ser o append().\n",
        "dict_agenda['000.000.000-00'].append('@roneysco')\n",
        "\n",
        "# fazemos o mesmo processo para o segundo registro... \n",
        "# veja uma forma mais 'direta' de adicionar a lista:\n",
        "dict_agenda['111.111.111-11'] = []\n",
        "dict_agenda['111.111.111-11'].append('Roney Santos')\n",
        "dict_agenda['111.111.111-11'].append([119999999999, 929999999999, 339999999999])\n",
        "dict_agenda['111.111.111-11'].append('@roney2')\n",
        "\n",
        "# ... e para o terceiro registro!\n",
        "dict_agenda['222.222.222-22'] = []\n",
        "dict_agenda['222.222.222-22'].append('Alguem Alguem')\n",
        "dict_agenda['222.222.222-22'].append([359999999999, 419999999999])\n",
        "dict_agenda['222.222.222-22'].append('@alguem')\n",
        "\n",
        "# agora vamos imprimir os contatos como foi solicitado. A mostragem do CPF, nome e o user são as mesmas do cenário 1:\n",
        "for chave, valor in dict_agenda.items():\n",
        "\n",
        "  cpf = chave\n",
        "  nome = valor[0]\n",
        "  user = valor[2]\n",
        "\n",
        "  # para pegarmos as informações do telefone, iremos utilizar uma outra estrutura de controle, para caminhar pela lista de telefones.\n",
        "  # como vimos que tem listas com quantidade diferente de telefones, devemos fazer uma busca mais genérica.\n",
        "  # lembrando que nossa lista de telefones é o 2º elemento na lista de valores, portanto, identificado como valor[1]:\n",
        "  for numero in valor[1]:\n",
        "    telefone = numero\n",
        "\n",
        "    # e aqui dentro do 2º 'for' é que eu mostro as informações solicitadas:\n",
        "    info = cpf + \": \" + nome + \", \" + str(telefone) + \" (\" + user + \")\"\n",
        "    print(info)"
      ],
      "execution_count": 2,
      "outputs": [
        {
          "output_type": "stream",
          "text": [
            "000.000.000-00: Roney Lira, 86999999999 (@roneysco)\n",
            "000.000.000-00: Roney Lira, 16999999999 (@roneysco)\n",
            "000.000.000-00: Roney Lira, 85999999999 (@roneysco)\n",
            "111.111.111-11: Roney Santos, 119999999999 (@roney2)\n",
            "111.111.111-11: Roney Santos, 929999999999 (@roney2)\n",
            "111.111.111-11: Roney Santos, 339999999999 (@roney2)\n",
            "222.222.222-22: Alguem Alguem, 359999999999 (@alguem)\n",
            "222.222.222-22: Alguem Alguem, 419999999999 (@alguem)\n"
          ],
          "name": "stdout"
        }
      ]
    }
  ]
}